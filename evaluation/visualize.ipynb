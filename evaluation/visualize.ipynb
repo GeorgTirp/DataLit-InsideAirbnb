{
 "cells": [
  {
   "cell_type": "code",
   "execution_count": null,
   "metadata": {},
   "outputs": [],
   "source": [
    "from models.regression import RegressionModels\n",
    "from preprocessing.preprocessing_test import preprocess_data\n",
    "from typing import Tuple, Dict\n",
    "import pandas as pd\n",
    "from fpdf import FPDF"
   ]
  }
 ],
 "metadata": {
  "language_info": {
   "name": "python"
  }
 },
 "nbformat": 4,
 "nbformat_minor": 2
}
