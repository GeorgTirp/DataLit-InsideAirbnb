{
 "cells": [
  {
   "cell_type": "code",
   "execution_count": 1,
   "metadata": {},
   "outputs": [],
   "source": [
    "import numpy as np\n",
    "import pandas as pd\n",
    "import os\n",
    "from copy import deepcopy\n",
    "\n",
    "PATH_TO_REPO = \"C:/Users/nilsk/Dokumente/Machine Learning (MSc.)/1. Semester/Data Literacy/DataLit-InsideAirbnb\"\n",
    "RAW_DATA_DIR = PATH_TO_REPO + '/data/raw_data'\n",
    "SAVING_DIR = PATH_TO_REPO + '/data/preprocessed_data'\n",
    "PROCESS_ALL_CITIES = True\n",
    "CITY_LIST   = [\"berlin\"] #list cities which should be processed if not PROCESS_ALL_CITIES\n",
    "DEBUG_MODE = True # determines if preprocessing is in DEBUG_MODE (no processing of file --> execution of main-function)"
   ]
  },
  {
   "cell_type": "code",
   "execution_count": 2,
   "metadata": {},
   "outputs": [],
   "source": [
    "def collecting_data_from_source(city_list):\n",
    "    \"\"\" \n",
    "    Converts raw data in RAW_DATA_DIR to proper CSV file format for cities specified in CITY_LIST (see above for global settings).\n",
    "    Converted files are saved in SAVING_DIR.\n",
    "    \n",
    "    \"\"\"\n",
    "    print(\"initializing preprocessing\")\n",
    "    cities_in_raw_data_dir = os.listdir(RAW_DATA_DIR)\n",
    "\n",
    "    if not PROCESS_ALL_CITIES and not set(CITY_LIST).issubset(cities_in_raw_data_dir):\n",
    "        raise ValueError(\"not all requested citys are in directory\")\n",
    "    \n",
    "    data_dict = {}\n",
    "\n",
    "    if PROCESS_ALL_CITIES:\n",
    "        CITY_LIST = cities_in_raw_data_dir\n",
    "    \n",
    "    for city in CITY_LIST:\n",
    "        data_dict[city] = {}\n",
    "        city_dir = RAW_DATA_DIR + '/' + city\n",
    "        FILE_NAMES = [f for f in os.listdir(city_dir) if os.path.isfile(os.path.join(city_dir, f))]\n",
    "\n",
    "        for file_name in FILE_NAMES:\n",
    "            if file_name.endswith('.csv') or file_name.endswith('.geojson') or file_name.endswith('.csv.gz'):\n",
    "                file_path = os.path.join(city_dir, file_name)\n",
    "        \n",
    "                # Read the file into a DataFrame\n",
    "                if file_name.endswith('.geojson'):\n",
    "                    df = pd.read_json(file_path)  # Adjust based on the specific geojson handling\n",
    "                else:\n",
    "                    file_name_core = file_name.split(sep=\".\")[0]\n",
    "\n",
    "                    if file_name_core == \"reviews\":\n",
    "                        index_col = 1\n",
    "                    else:\n",
    "                        index_col = 0\n",
    "                        \n",
    "                    df = pd.read_csv(file_path, index_col=index_col)\n",
    "\n",
    "                #basename = file_name.split(sep=\".\")[0]\n",
    "                \n",
    "                data_dict[city][file_name] = df\n",
    "    \n",
    "    return data_dict\n",
    "\n",
    "                \n",
    "    print(\"preprocessing done\")"
   ]
  },
  {
   "cell_type": "code",
   "execution_count": 3,
   "metadata": {},
   "outputs": [
    {
     "name": "stdout",
     "output_type": "stream",
     "text": [
      "initializing preprocessing\n"
     ]
    },
    {
     "name": "stderr",
     "output_type": "stream",
     "text": [
      "c:\\Users\\nilsk\\anaconda3\\lib\\site-packages\\numpy\\lib\\arraysetops.py:583: FutureWarning: elementwise comparison failed; returning scalar instead, but in the future will perform elementwise comparison\n",
      "  mask |= (ar1 == a)\n"
     ]
    }
   ],
   "source": [
    "data_dict = collecting_data_from_source(CITY_LIST)"
   ]
  },
  {
   "cell_type": "code",
   "execution_count": 4,
   "metadata": {},
   "outputs": [
    {
     "name": "stdout",
     "output_type": "stream",
     "text": [
      "False\n",
      "0\n"
     ]
    }
   ],
   "source": [
    "brln_listings = data_dict[\"berlin\"][\"listings.csv\"]\n",
    "amstrdm_listings = data_dict[\"amsterdam\"][\"listings.csv\"]\n",
    "brln_reviews = data_dict[\"berlin\"][\"reviews.csv\"]\n",
    "\n",
    "brln_list_n = len(brln_listings)\n",
    "brln_rev_n = len(brln_reviews)\n",
    "\n",
    "brln_list_index = set(brln_listings.index.to_list())\n",
    "brln_rev_index = set(brln_reviews.index.to_list())\n",
    "\n",
    "amstrdm_list_index = set(amstrdm_listings.index.to_list())\n",
    "\n",
    "\n",
    "\"\"\" print(len(brln_rev_index))\n",
    "print(brln_rev_n)\n",
    "print(brln_reviews[\"listing_id\"])\n",
    "data_dict[\"berlin\"].keys()\n",
    "\n",
    "print(len(brln_listings.index.to_list()))\n",
    "print(len(brln_list_index)) \"\"\"\n",
    "\n",
    "brln_reviews.iloc[1]\n",
    "print(sorted(brln_listings.index.to_list()) == brln_listings.index.to_list())\n",
    "\n",
    "print(len(brln_list_index.intersection(amstrdm_list_index)))\n"
   ]
  },
  {
   "cell_type": "code",
   "execution_count": 19,
   "metadata": {},
   "outputs": [],
   "source": [
    "def integrate_reviews_and_aggregate(data_dict):\n",
    "    cities = data_dict.keys()\n",
    "    cities_listings_with_region = []\n",
    "\n",
    "    data_dict = deepcopy(data_dict)\n",
    "\n",
    "    for city in cities:\n",
    "        print(f\"collecting reviews for city: {city}\")\n",
    "        city_listings = data_dict[city][\"listings.csv\"]\n",
    "        city_reviews = data_dict[city][\"reviews.csv\"]       \n",
    "        city_calendar = data_dict[city][\"calendar.csv\"] \n",
    "\n",
    "        city_listings_indices = city_listings.index.to_list()\n",
    "        city_listings[\"comments\"] = [[] for _ in range(len(city_listings))]\n",
    "\n",
    "        for index in city_listings_indices:\n",
    "            city_index_reviews = city_reviews[city_reviews[\"listing_id\"] == index]\n",
    "            comments = city_index_reviews[\"comments\"].to_list()\n",
    "\n",
    "            comments_with_newline = []\n",
    "            for comment in comments:\n",
    "                if type(comment) is float:\n",
    "                    comment = \"\"\n",
    "                comment_transformed = comment.replace('<br/>', '\\n').replace('\\r', '')\n",
    "                comments_with_newline.append(comment_transformed)\n",
    "\n",
    "            city_listings.at[index, 'comments'] = comments_with_newline\n",
    "        \n",
    "        city_listings.insert(0, 'region', city)\n",
    "        cities_listings_with_region.append(city_listings)\n",
    "\n",
    "    print(f\"integrate all city dataframes into one\")\n",
    "    cities_listings_with_region = pd.concat(cities_listings_with_region, ignore_index=True)\n",
    "\n",
    "    return cities_listings_with_region\n",
    "    "
   ]
  },
  {
   "cell_type": "code",
   "execution_count": 20,
   "metadata": {},
   "outputs": [
    {
     "name": "stdout",
     "output_type": "stream",
     "text": [
      "collecting reviews for city: amsterdam\n",
      "collecting reviews for city: berlin\n",
      "integrate all city dataframes into one\n"
     ]
    }
   ],
   "source": [
    "cities_listings_with_region = integrate_reviews_and_aggregate(data_dict)"
   ]
  },
  {
   "cell_type": "code",
   "execution_count": 21,
   "metadata": {},
   "outputs": [
    {
     "name": "stdout",
     "output_type": "stream",
     "text": [
      "['Appartement très agréable, seul hic, il est un peu excentré.', 'Great apartment! It was very clean and comfortable, in a residential area with easy tram access to the city center, and a very hospitable host. Jeroen gave us great restaurant recommendations in the area in his guidebook, and was easy to reach. I would definitely recommend staying here when visiting Amsterdam! ', '\\n\\n\\n\\n\\n\\n\\n\\n\\n\\n\\n\\n\\n\\n\\n\\n\\n\\n\\n\\n\\n\\n\\n\\n\\n\\n\\n\\nApartment very nice and warm, like his host, who provided us with a very good weekend', 'Week perfect , good location , thanks :)', \"Communication with Jeroen was excellent, and the flat was exactly as described. It's a nice and quiet neighbourhood, with easy access to public transportation, and there are also some nice nearby restaurants. I would definitely stay again in the future. \", \"We were left stranded by another host at the last minute and this kind man came to our rescue. He arranged for us to check in within an hour of requesting to book. The host was very helpful and the accommodation was ideal. Very nice apartment and a great location. Bright, spacious, everything we needed. We would love to stay there again if back in Amsterdam. There is a lovely Brewery ('T Ij) a couple of minutes from the apartment next to the windmill and it was fantastic. Great recommendation by the host. \", \"Jeroen is very nice and welcoming. The place is really quiet and the flat is beautiful and spacious. I really enjoyed my stay. I felt like home, i recommand jeroen's appartment to everyone.\\n\", 'Amazing stay in a great neighbourhood and a beautiful house. Supermarkets are just 5mins by foot and the bike rental is just around the corner.', \"Jeroen's apartment in Amsterdam was perfect. Communication was great, the apartment had everything I needed, and the location was ideal. I would definitely recommend Jeroen's apartment to anyone staying in Amsterdam for a short stay!\", 'The description was accurate and the house is located in a nice and quiet neighborhood, close to the city center. ', 'A lovely apartment and well situated in the city, only a 10/15 minute walk to centre which we enjoyed in the morning. The apartment is also close to Centraal station so a very easy travel from Amsterdam airport to the apartment. Everything worked very well and we had a lovely stay, a peaceful neighbourhood and the host was very welcoming. I would defiantly recommend this to others ', \"We really enjoyed our stay at Jeroen's place. It's cozy, there's everything one could need to feel home and it is very well located. He's very friendly and was easily reachable both before and during the stay. Thanks!\\nI definitely recommend it.\", \"Jeroen's place was really nice and we had a great time staying there! He was very nice and was available when ever we had any questions. I highly recommend staying at his apartment!\", \"Nice and cosy appartement , We really enjoyed our stay at Jeroen's\", 'a home away from home!', 'Apartment very well decorated. Jeroen is very flexible to prepare the arrival of the tenants: unable to be there he left the key to the neighbor and leaving we put them in the mailbox.\\nHe inflated an airbed, because we were 3, and he pulled out towels.\\nHe also left us some plans and documentation of the city and the wifi code.', 'Jeroen was friendly, accommodating, and timely with communications. His apartment is in a quiet, residential area close to the heart of downtown. Also great value for price. ', \"The perfect place if you want to be JUST outside of the main part of the city. \\nSuper quick and easy to get to the main part of city but so great to be in a quiet neighborhood at night. \\nAnd speaking of neighborhood, Jeroen's beautiful flat was in a great area. Great food and bars and a great local market. \\nJeroen was a lovely and welcoming host. \\nI would highly recommend his flat to anyone. Clean, spacious and a lovely balcony to enjoy a cup of coffee in the morning or even a nice dinner, which we did one night. \", 'We realy enjoyed our stay at Jeroens flat! Nice, quited and cosy appartement. Well decorated and makes you feel at home, with everything you need. \\nIt is walking distance into center of the town, and many nice places nearby. \\nCommunication was no problems what so ever, and checkin in / out went perfect \\nCan absolutley reccomend Jerones appartment,\\nThank you!', 'Jeroen was friendly and timely with communications. His apartment is in a quiet area close to the heart of downtown. Nice and cosy appartement. We really enjoyed. \\nHe also left us some plans and docs of the city and the wifi code.', \"A really clean and nice place! No problems with the key handover, flexible time for check-in and check-out. Felt very comfortable at Jeroen's place. \", 'Awesome apartment with a lot of personality. Great balcony for having a coffee and smoke, and Jeroen was very easy to deal with. Great location easily walkable to the center', \"I loved this place! It's in a quiet area, but still very close to downtown and Amsterdam centraal. The apartment itself is very well equipped, clean - everything you need. The building is quiet. Quiet neighbors too. Coffee shops, restaurants and supermarket all down the street. Metro right outside. Jeroen was super easy to deal with, flexible with small accommodations and very responsive. I'd love to stay again for sure! My favorite air bnb I've used yet!\", 'Excellent', \"10/10 would recommend this place to anyone travelling to Amsterdam. Great location right by the tram. Jeroen's home is spacious and cozy. The apartment gets beautiful sunlight all day and we felt right at home as soon as we walked in. Jeroen is a very thoughtful host and left a guide on what places to go to to shop/eat/rentals/must see places. He is also very efficient at communicating with his guests. Thanks Jeroen for a wonderful stay!\", 'Great apartment, solid location. Would recommend.', 'Wunderschöne, grosse Wohnung. Gute Anbindung and die öffentlichen Verkehrsmittel. Jeroen hat sehr schnell geantworted, alles ist reibungslos abgelaufen. Sehr empfehlenswert!', 'We had a brilliant stay in Amsterdam and that was also due to Jeroens georgeous appartment! Located very conveniently in a relatively central yet quiet area with very nice, less touristic spots (e.g. Roest, perfect for dinner or wine in a modern/hip environment or small local restaurants with good value for money). Main parts of Amsterdam are accessible by foot, the rest by public transport.\\nCheck-In was very easy and flexible, communication worked perfect and fast, the appartment is extremely well equipped with everything you need - including great taste for interior. \\nCan definitely recommend it!', 'Great apartment. Lots of space, very comfortable and very stylish. There was a nice balcony full of plants with a little table to sit at outside.\\nVery easy to get to the city and there are local bars, cafes and coffee shops too. There is also a park about a 10 minute walk away. Very clean and also a very safe area. ', 'great apartment \\n', 'Really great place. The location is perfect it’s a very nice quiet area just 8 min bike ride from the center. (Anyone visiting should expect to rent a bike it’s the most efficient and cheapest option) The apartment was great. The bed was amazing and comfortable to sleep at night. Good and clean bathroom and shower. Check in and check out were easy. Great place to stay in Amsterdam. Would recommend to anyone. ', 'Excellent communication and an absolute pleasure to deal with throughout my stay. \\nThank you for everything', 'Great location! Easy to get around with good  restaurants & a local grocery, lots of local attractions close by, quiet neighborhood. Thx again!', 'Nice place close to the city center. My gf and I were easily able to walk everywhere. Very clean.', 'Great apartment close downtown. Recommend renting a bike from the nearby rental shop', 'If you’re looking for a quiet place for 1-3 people. This apartment is definitely a winner. It’s pleasantly decorated with a well-stocked kitchen. I especially liked the water closet w/sink and a separate shower/sink/washer/dryer room for times when my friend and I were getting ready for the day. \\nIt was a short walk to the tram to the metro, followed by a couple of stops to get to Centraal Station. We got a 48 hour transit card for convenience. And there are restaurants and grocery stores within walking distance. Highly recommend if you want to soak up the charm of the city, extend your experience beyond tourists, and hobnob with the locals.', 'The apartment was a great place.  It is near good grocery stores and the tram.  I really have nothing negative to say.  One thing to know is that if you like cooking this place actually has the pots and utensils you need.', \"Jeroen's apartment is very stylish and well located near a tram line from the Centraal station. It's walking distance from many other attractions, and we often walked in the mornings. There are several nice restaurants and cafes nearby, including a micro brewery in an old windmill. Jeroen communicated very quickly and thoroughly before we arrived and whilst we were there. A really great place to stay for a long weekend!\", 'Great place and location! Very easy to get around and close to some great spots. Very comfortable and welcoming space, would love to stay there again!', 'This place is perfect! Stylish, clean, and close to many great restaurants. A local grocery store is right around the corner, and the host has pots and pans for you to cook with. Also by some local sights! We will definitely try to book this place again, next time we’re in Amsterdam!', \"We had a wonderful stay at Jeroen's place. Very nice apartment. A few minutes ride to most attractions. Plenty of places to eat and a supermarket to buy groceries is a couple blocks away. Close to bus and tram stops. Two flights of stairs.\", 'Jeroen was a lovely host, his house was spotless and had everything you could have possibly needed throughout your stay! Messing Jeroen was no problem as he had fast replies and had info on the area in his house. Great host great apartment', 'A very nice Apartment.']\n"
     ]
    }
   ],
   "source": [
    "print(comments_list_transformed[0])"
   ]
  }
 ],
 "metadata": {
  "kernelspec": {
   "display_name": "base",
   "language": "python",
   "name": "python3"
  },
  "language_info": {
   "codemirror_mode": {
    "name": "ipython",
    "version": 3
   },
   "file_extension": ".py",
   "mimetype": "text/x-python",
   "name": "python",
   "nbconvert_exporter": "python",
   "pygments_lexer": "ipython3",
   "version": "3.9.7"
  }
 },
 "nbformat": 4,
 "nbformat_minor": 2
}
