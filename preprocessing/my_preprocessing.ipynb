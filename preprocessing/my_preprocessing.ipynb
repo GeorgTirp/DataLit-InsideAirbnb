{
 "cells": [
  {
   "cell_type": "code",
   "execution_count": 1,
   "metadata": {},
   "outputs": [],
   "source": [
    "import numpy as np\n",
    "import pandas as pd\n",
    "import os\n",
    "\n",
    "PATH_TO_REPO = \"C:/Users/nilsk/Dokumente/Machine Learning (MSc.)/1. Semester/Data Literacy/DataLit-InsideAirbnb\"\n",
    "RAW_DATA_DIR = PATH_TO_REPO + '/data'\n",
    "SAVING_DIR = PATH_TO_REPO + '/data/preprocessed_data'\n",
    "CITY_LIST   = [\"berlin\"]\n",
    "DEBUG_MODE = True # determines if preprocessing is in DEBUG_MODE (no processing of file --> execution of main-function)"
   ]
  },
  {
   "cell_type": "code",
   "execution_count": 23,
   "metadata": {},
   "outputs": [],
   "source": [
    "def preprocessing_city_csv_files(city_list):\n",
    "    \"\"\" \n",
    "    Converts raw data in RAW_DATA_DIR to proper CSV file format for cities specified in CITY_LIST (see above for global settings).\n",
    "    Converted files are saved in SAVING_DIR.\n",
    "    \n",
    "    \"\"\"\n",
    "    print(\"initializing preprocessing\")\n",
    "    cities_in_raw_data_dir = os.listdir(RAW_DATA_DIR)\n",
    "\n",
    "    if not set(CITY_LIST).issubset(cities_in_raw_data_dir):\n",
    "        raise ValueError(\"not all requested citys are in directory\")\n",
    "    \n",
    "    data_dict = {}\n",
    "    \n",
    "    for city in CITY_LIST:\n",
    "        data_dict[city] = {}\n",
    "        city_dir = RAW_DATA_DIR + '/' + city\n",
    "        data_versions = os.listdir(RAW_DATA_DIR + '/' + city)\n",
    "        \n",
    "        for data_version in data_versions:\n",
    "            data_dict[city][data_version] = {}\n",
    "\n",
    "\n",
    "            data_version_dir = city_dir + '/' + data_version\n",
    "\n",
    "            print(os.listdir(data_version_dir))\n",
    "\n",
    "            FILE_NAMES = [f for f in os.listdir(data_version_dir) if os.path.isfile(os.path.join(data_version_dir, f))]\n",
    "            \n",
    "            \n",
    "\n",
    "            for file_name in FILE_NAMES:\n",
    "                if file_name.endswith('.csv') or file_name.endswith('.geojson') or file_name.endswith('.csv.gz'):\n",
    "                    file_path = os.path.join(data_version_dir, file_name)\n",
    "            \n",
    "                    # Read the file into a DataFrame\n",
    "                    if file_name.endswith('.geojson'):\n",
    "                        df = pd.read_json(file_path)  # Adjust based on the specific geojson handling\n",
    "                    else:\n",
    "                        df = pd.read_csv(file_path, index_col=0)\n",
    "\n",
    "                    basename = file_name.split(sep=\".\")[0]\n",
    "                    \n",
    "                    data_dict[city][data_version][basename] = df\n",
    "    \n",
    "    return data_dict\n",
    "\n",
    "                \n",
    "    print(\"preprocessing done\")"
   ]
  },
  {
   "cell_type": "code",
   "execution_count": 24,
   "metadata": {},
   "outputs": [
    {
     "name": "stdout",
     "output_type": "stream",
     "text": [
      "initializing preprocessing\n",
      "['calendar.csv', 'listings.csv', 'neighbourhoods.csv', 'reviews.csv', 'summary_information']\n"
     ]
    },
    {
     "name": "stderr",
     "output_type": "stream",
     "text": [
      "c:\\Users\\nilsk\\anaconda3\\lib\\site-packages\\numpy\\lib\\arraysetops.py:583: FutureWarning: elementwise comparison failed; returning scalar instead, but in the future will perform elementwise comparison\n",
      "  mask |= (ar1 == a)\n"
     ]
    },
    {
     "name": "stdout",
     "output_type": "stream",
     "text": [
      "['calendar.csv', 'listings.csv', 'neighbourhoods.csv', 'reviews.csv', 'summary_information']\n",
      "['calendar.csv', 'listings.csv', 'neighbourhoods.csv', 'reviews.csv', 'summary_information']\n",
      "['calendar.csv', 'listings.csv', 'neighbourhoods.csv', 'reviews.csv', 'summary_information']\n"
     ]
    }
   ],
   "source": [
    "data_dict = preprocessing_city_csv_files(CITY_LIST)"
   ]
  },
  {
   "cell_type": "code",
   "execution_count": 75,
   "metadata": {},
   "outputs": [
    {
     "name": "stdout",
     "output_type": "stream",
     "text": [
      "13327\n",
      "13362\n",
      "13759\n",
      "14017\n",
      "\n",
      "4195365\n",
      "3\n",
      "3\n",
      "3\n",
      "3\n",
      "Index(['listing_url', 'scrape_id', 'last_scraped', 'source', 'name',\n",
      "       'description', 'neighborhood_overview', 'picture_url', 'host_id',\n",
      "       'host_url', 'host_name', 'host_since', 'host_location', 'host_about',\n",
      "       'host_response_time', 'host_response_rate', 'host_acceptance_rate',\n",
      "       'host_is_superhost', 'host_thumbnail_url', 'host_picture_url',\n",
      "       'host_neighbourhood', 'host_listings_count',\n",
      "       'host_total_listings_count', 'host_verifications',\n",
      "       'host_has_profile_pic', 'host_identity_verified', 'neighbourhood',\n",
      "       'neighbourhood_cleansed', 'neighbourhood_group_cleansed', 'latitude',\n",
      "       'longitude', 'property_type', 'room_type', 'accommodates', 'bathrooms',\n",
      "       'bathrooms_text', 'bedrooms', 'beds', 'amenities', 'price',\n",
      "       'minimum_nights', 'maximum_nights', 'minimum_minimum_nights',\n",
      "       'maximum_minimum_nights', 'minimum_maximum_nights',\n",
      "       'maximum_maximum_nights', 'minimum_nights_avg_ntm',\n",
      "       'maximum_nights_avg_ntm', 'calendar_updated', 'has_availability',\n",
      "       'availability_30', 'availability_60', 'availability_90',\n",
      "       'availability_365', 'calendar_last_scraped', 'number_of_reviews',\n",
      "       'number_of_reviews_ltm', 'number_of_reviews_l30d', 'first_review',\n",
      "       'last_review', 'review_scores_rating', 'review_scores_accuracy',\n",
      "       'review_scores_cleanliness', 'review_scores_checkin',\n",
      "       'review_scores_communication', 'review_scores_location',\n",
      "       'review_scores_value', 'license', 'instant_bookable',\n",
      "       'calculated_host_listings_count',\n",
      "       'calculated_host_listings_count_entire_homes',\n",
      "       'calculated_host_listings_count_private_rooms',\n",
      "       'calculated_host_listings_count_shared_rooms', 'reviews_per_month'],\n",
      "      dtype='object')\n",
      "2289\n",
      "2979\n"
     ]
    }
   ],
   "source": [
    "brln_v1_listings = data_dict[\"berlin\"][\"18_12_2023\"][\"listings\"]\n",
    "brln_v2_listings = data_dict[\"berlin\"][\"24_03_2024\"][\"listings\"]\n",
    "brln_v3_listings = data_dict[\"berlin\"][\"22_06_2024\"][\"listings\"]\n",
    "brln_v4_listings = data_dict[\"berlin\"][\"18_09_2024\"][\"listings\"]\n",
    "\n",
    "v1_n = len(brln_v1_listings)\n",
    "v2_n = len(brln_v2_listings)\n",
    "v3_n = len(brln_v3_listings)\n",
    "v4_n = len(brln_v4_listings)\n",
    "\n",
    "brln_v1_index = set(brln_v1_listings.index.to_list())\n",
    "brln_v2_index = set(brln_v2_listings.index.to_list())\n",
    "brln_v3_index = set(brln_v3_listings.index.to_list())\n",
    "brln_v4_index = set(brln_v4_listings.index.to_list())\n",
    "\n",
    "print(v1_n)\n",
    "print(v2_n)\n",
    "print(v3_n)\n",
    "print(v4_n)\n",
    "print()\n",
    "mutual_indices = brln_v1_index.intersection(brln_v2_index).intersection(brln_v3_index).intersection(brln_v4_index)\n",
    "one_mutual_index = list(mutual_indices)[346]\n",
    "print(one_mutual_index)\n",
    "column = \"accommodates\"\n",
    "print(brln_v1_listings.loc[one_mutual_index][column])\n",
    "print(brln_v2_listings.loc[one_mutual_index][column])\n",
    "print(brln_v3_listings.loc[one_mutual_index][column])\n",
    "print(brln_v4_listings.loc[one_mutual_index][column])\n",
    "print(brln_v4_listings.keys())\n",
    "print(len(brln_v1_index.difference(brln_v4_index)))\n",
    "print(len(brln_v4_index.difference(brln_v1_index)))\n",
    "# print(brln_v1_listings.keys())\n"
   ]
  }
 ],
 "metadata": {
  "kernelspec": {
   "display_name": "base",
   "language": "python",
   "name": "python3"
  },
  "language_info": {
   "codemirror_mode": {
    "name": "ipython",
    "version": 3
   },
   "file_extension": ".py",
   "mimetype": "text/x-python",
   "name": "python",
   "nbconvert_exporter": "python",
   "pygments_lexer": "ipython3",
   "version": "3.9.7"
  }
 },
 "nbformat": 4,
 "nbformat_minor": 2
}
